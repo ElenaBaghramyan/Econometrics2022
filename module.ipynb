{
 "cells": [
  {
   "cell_type": "code",
   "execution_count": 12,
   "metadata": {},
   "outputs": [
    {
     "name": "stdout",
     "output_type": "stream",
     "text": [
      "{'word': 'Econometrics', 'sentence': 'If the implementation is easy to explain, it may be a good idea.', 'big_list': ['python', 3, 'anaconda', 3.6, 'jupiter', 10, 'lessons', 'many', 99], 'empty_list': []}\n"
     ]
    }
   ],
   "source": [
    "d1 = {\"word\" : \"Econometrics\",\n",
    "    \"sentence\" : \"If the implementation is easy to explain, it may be a good idea.\", \n",
    "    \"big_list\" : [\"python\", 3, \"anaconda\", 3.6, \"jupiter\", 10, \"lessons\", \"many\", 99],\n",
    "    \"empty_list\" : []}\n",
    "print(d1)"
   ]
  },
  {
   "cell_type": "code",
   "execution_count": 16,
   "metadata": {},
   "outputs": [
    {
     "name": "stdout",
     "output_type": "stream",
     "text": [
      "{'word': 'Applied_APPLIED_ECONOMETRICS', 'sentence': 'If the implementation is easy to explain, it may be a good idea.', 'big_list': ['python', 3, 'anaconda', 3.6, 'jupiter', 10, 'lessons', 'many', 99], 'empty_list': []}\n"
     ]
    }
   ],
   "source": [
    "#1+2\n",
    "if not d1['word'].isupper():\n",
    "    d1['word'] = \"Applied_\" + d1['word'].upper()\n",
    "print(d1)"
   ]
  },
  {
   "cell_type": "code",
   "execution_count": 18,
   "metadata": {},
   "outputs": [
    {
     "data": {
      "text/plain": [
       "'If the implementation is easy to explain, it may be a bad idea.'"
      ]
     },
     "execution_count": 18,
     "metadata": {},
     "output_type": "execute_result"
    }
   ],
   "source": [
    "#3\n",
    "d1['sentence'].replace(\"good\", \"bad\")"
   ]
  },
  {
   "cell_type": "code",
   "execution_count": 19,
   "metadata": {},
   "outputs": [
    {
     "name": "stdout",
     "output_type": "stream",
     "text": [
      "p\n",
      "a\n",
      "j\n",
      "l\n",
      "m\n"
     ]
    }
   ],
   "source": [
    "#4\n",
    "for i in d1[\"big_list\"]:\n",
    "    if type(i) == str:\n",
    "        print(i[0])"
   ]
  },
  {
   "cell_type": "code",
   "execution_count": 23,
   "metadata": {},
   "outputs": [
    {
     "name": "stdout",
     "output_type": "stream",
     "text": [
      "100\n"
     ]
    }
   ],
   "source": [
    "#5\n",
    "sum = 0\n",
    "for i in d1[\"big_list\"]:\n",
    "    if type(i) == int:\n",
    "        sum += i\n",
    "sum1 = 0\n",
    "d1['big_list'].remove(d1['big_list'][-1])\n",
    "d1['big_list'].append(87)\n",
    "for item in d1['big_list']:\n",
    "    if type(item) == int:\n",
    "        sum1 += item\n",
    "print(sum1)\n",
    "\n"
   ]
  },
  {
   "cell_type": "code",
   "execution_count": 24,
   "metadata": {},
   "outputs": [
    {
     "data": {
      "text/plain": [
       "{'word': 'Applied_APPLIED_ECONOMETRICS',\n",
       " 'sentence': 'If the implementation is easy to explain, it may be a good idea.',\n",
       " 'big_list': ['python',\n",
       "  3,\n",
       "  'anaconda',\n",
       "  3.6,\n",
       "  'jupiter',\n",
       "  10,\n",
       "  'lessons',\n",
       "  'apple',\n",
       "  87],\n",
       " 'empty_list': []}"
      ]
     },
     "execution_count": 24,
     "metadata": {},
     "output_type": "execute_result"
    }
   ],
   "source": [
    "#6\n",
    "d1['big_list'][7] = 'apple'\n",
    "d1"
   ]
  },
  {
   "cell_type": "code",
   "execution_count": 26,
   "metadata": {},
   "outputs": [
    {
     "name": "stdout",
     "output_type": "stream",
     "text": [
      "45\n",
      "45\n"
     ]
    }
   ],
   "source": [
    "#7\n",
    "ls = [i for i in range(10, 100)]\n",
    "count_odd = 0\n",
    "count_prime = 0\n",
    "for i in ls:\n",
    "    if i %2 == 0:\n",
    "        count_prime += 1\n",
    "    else:\n",
    "        count_odd += 1\n",
    "print(count_odd)\n",
    "print(count_prime)"
   ]
  },
  {
   "cell_type": "code",
   "execution_count": null,
   "metadata": {},
   "outputs": [],
   "source": []
  }
 ],
 "metadata": {
  "interpreter": {
   "hash": "6f3459a7eaad7388d7351a557bbe5239a0aa1912c8a80cc899cc91528b7b4fb5"
  },
  "kernelspec": {
   "display_name": "Python 3.9.7 ('base')",
   "language": "python",
   "name": "python3"
  },
  "language_info": {
   "codemirror_mode": {
    "name": "ipython",
    "version": 3
   },
   "file_extension": ".py",
   "mimetype": "text/x-python",
   "name": "python",
   "nbconvert_exporter": "python",
   "pygments_lexer": "ipython3",
   "version": "3.9.7"
  },
  "orig_nbformat": 4
 },
 "nbformat": 4,
 "nbformat_minor": 2
}
